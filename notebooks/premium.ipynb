{
 "cells": [
  {
   "cell_type": "code",
   "execution_count": 5,
   "id": "4be124c5",
   "metadata": {},
   "outputs": [
    {
     "name": "stdout",
     "output_type": "stream",
     "text": [
      "db.db         premium.ipynb\r\n"
     ]
    }
   ],
   "source": [
    "!ls"
   ]
  },
  {
   "cell_type": "code",
   "execution_count": 1,
   "id": "f6a3a0f5",
   "metadata": {},
   "outputs": [],
   "source": [
    "from dateutil.relativedelta import relativedelta"
   ]
  },
  {
   "cell_type": "code",
   "execution_count": 2,
   "id": "863e391d",
   "metadata": {},
   "outputs": [],
   "source": [
    "import numpy as np"
   ]
  },
  {
   "cell_type": "code",
   "execution_count": 3,
   "id": "e429371b",
   "metadata": {},
   "outputs": [],
   "source": [
    "DATES_COLS = ['date_start', 'date_end']"
   ]
  },
  {
   "cell_type": "code",
   "execution_count": 6,
   "id": "a8d3f21b",
   "metadata": {},
   "outputs": [],
   "source": [
    "import sqlite3\n",
    "import pandas as pd\n",
    "# Create your connection.\n",
    "cnx = sqlite3.connect('../db/db.db')\n",
    "\n",
    "df = pd.read_sql_query(\"SELECT * FROM premium_payments\", cnx, parse_dates=DATES_COLS)"
   ]
  },
  {
   "cell_type": "code",
   "execution_count": 7,
   "id": "e91b6c04",
   "metadata": {},
   "outputs": [
    {
     "data": {
      "text/html": [
       "<div>\n",
       "<style scoped>\n",
       "    .dataframe tbody tr th:only-of-type {\n",
       "        vertical-align: middle;\n",
       "    }\n",
       "\n",
       "    .dataframe tbody tr th {\n",
       "        vertical-align: top;\n",
       "    }\n",
       "\n",
       "    .dataframe thead th {\n",
       "        text-align: right;\n",
       "    }\n",
       "</style>\n",
       "<table border=\"1\" class=\"dataframe\">\n",
       "  <thead>\n",
       "    <tr style=\"text-align: right;\">\n",
       "      <th></th>\n",
       "      <th>member_id</th>\n",
       "      <th>date_start</th>\n",
       "      <th>date_end</th>\n",
       "      <th>type</th>\n",
       "    </tr>\n",
       "  </thead>\n",
       "  <tbody>\n",
       "    <tr>\n",
       "      <th>0</th>\n",
       "      <td>1</td>\n",
       "      <td>2018-10-31</td>\n",
       "      <td>2018-11-30</td>\n",
       "      <td>1</td>\n",
       "    </tr>\n",
       "    <tr>\n",
       "      <th>1</th>\n",
       "      <td>1</td>\n",
       "      <td>2018-12-01</td>\n",
       "      <td>2019-01-01</td>\n",
       "      <td>1</td>\n",
       "    </tr>\n",
       "    <tr>\n",
       "      <th>2</th>\n",
       "      <td>2</td>\n",
       "      <td>2019-01-18</td>\n",
       "      <td>2019-02-17</td>\n",
       "      <td>3</td>\n",
       "    </tr>\n",
       "    <tr>\n",
       "      <th>3</th>\n",
       "      <td>2</td>\n",
       "      <td>2019-02-19</td>\n",
       "      <td>2019-03-22</td>\n",
       "      <td>3</td>\n",
       "    </tr>\n",
       "    <tr>\n",
       "      <th>4</th>\n",
       "      <td>2</td>\n",
       "      <td>2019-03-23</td>\n",
       "      <td>2019-04-23</td>\n",
       "      <td>3</td>\n",
       "    </tr>\n",
       "  </tbody>\n",
       "</table>\n",
       "</div>"
      ],
      "text/plain": [
       "   member_id date_start   date_end  type\n",
       "0          1 2018-10-31 2018-11-30     1\n",
       "1          1 2018-12-01 2019-01-01     1\n",
       "2          2 2019-01-18 2019-02-17     3\n",
       "3          2 2019-02-19 2019-03-22     3\n",
       "4          2 2019-03-23 2019-04-23     3"
      ]
     },
     "execution_count": 7,
     "metadata": {},
     "output_type": "execute_result"
    }
   ],
   "source": [
    "df.head()"
   ]
  },
  {
   "cell_type": "code",
   "execution_count": 8,
   "id": "69ef40bc",
   "metadata": {},
   "outputs": [
    {
     "data": {
      "text/plain": [
       "(24999, 4)"
      ]
     },
     "execution_count": 8,
     "metadata": {},
     "output_type": "execute_result"
    }
   ],
   "source": [
    "df.shape"
   ]
  },
  {
   "cell_type": "code",
   "execution_count": 9,
   "id": "0e3cbfbc",
   "metadata": {},
   "outputs": [
    {
     "data": {
      "text/plain": [
       "member_id              int64\n",
       "date_start    datetime64[ns]\n",
       "date_end      datetime64[ns]\n",
       "type                   int64\n",
       "dtype: object"
      ]
     },
     "execution_count": 9,
     "metadata": {},
     "output_type": "execute_result"
    }
   ],
   "source": [
    "df.dtypes"
   ]
  },
  {
   "cell_type": "code",
   "execution_count": null,
   "id": "0bb58983",
   "metadata": {},
   "outputs": [],
   "source": [
    "df['date_start'] = pd.to_datetime(df['date_start'])\n",
    "df['date_end'] = pd.to_datetime(df['date_end'])"
   ]
  },
  {
   "cell_type": "code",
   "execution_count": null,
   "id": "458ce6b6",
   "metadata": {},
   "outputs": [],
   "source": [
    "df"
   ]
  },
  {
   "cell_type": "code",
   "execution_count": 10,
   "id": "6eab6374",
   "metadata": {},
   "outputs": [
    {
     "data": {
      "text/plain": [
       "5000    4\n",
       "9148    4\n",
       "1553    4\n",
       "7393    4\n",
       "4740    4\n",
       "       ..\n",
       "3149    1\n",
       "3180    1\n",
       "8262    1\n",
       "3194    1\n",
       "9999    1\n",
       "Name: member_id, Length: 9999, dtype: int64"
      ]
     },
     "execution_count": 10,
     "metadata": {},
     "output_type": "execute_result"
    }
   ],
   "source": [
    "df.member_id.value_counts()"
   ]
  },
  {
   "cell_type": "code",
   "execution_count": null,
   "id": "76e71f9e",
   "metadata": {},
   "outputs": [],
   "source": [
    "# id 1553 get differents type of premium"
   ]
  },
  {
   "cell_type": "code",
   "execution_count": null,
   "id": "93898c39",
   "metadata": {},
   "outputs": [],
   "source": [
    "df[df['member_id'] == 1553]"
   ]
  },
  {
   "cell_type": "code",
   "execution_count": null,
   "id": "ce482fad",
   "metadata": {},
   "outputs": [],
   "source": [
    "sample = df[df['member_id'] == 1553]"
   ]
  },
  {
   "cell_type": "code",
   "execution_count": null,
   "id": "80895280",
   "metadata": {},
   "outputs": [],
   "source": [
    "sample"
   ]
  },
  {
   "cell_type": "code",
   "execution_count": null,
   "id": "afe71805",
   "metadata": {},
   "outputs": [],
   "source": [
    "sample['test'] = sample.groupby(['member_id', 'type'])['date_end'].shift(1)"
   ]
  },
  {
   "cell_type": "code",
   "execution_count": null,
   "id": "539e5d18",
   "metadata": {},
   "outputs": [],
   "source": [
    "sample"
   ]
  },
  {
   "cell_type": "code",
   "execution_count": null,
   "id": "437e4811",
   "metadata": {},
   "outputs": [],
   "source": [
    "sample['date_start'].min()"
   ]
  },
  {
   "cell_type": "code",
   "execution_count": null,
   "id": "f7147c47",
   "metadata": {},
   "outputs": [],
   "source": [
    "#df.merge(df.groupby(['C', 'D']).apply(lambda row: row['B'] - row['A']).sum(level=[0,1]).reset_index())"
   ]
  },
  {
   "cell_type": "code",
   "execution_count": null,
   "id": "1a5ccc12",
   "metadata": {},
   "outputs": [],
   "source": [
    "sample.groupby(['member_id', 'type']).apply(lambda row: row['date_end'].max()-row['date_start'].min())"
   ]
  },
  {
   "cell_type": "code",
   "execution_count": null,
   "id": "2d58179f",
   "metadata": {},
   "outputs": [],
   "source": [
    "sample.groupby(['member_id', 'type']).transform(lambda row: row['date_end'].max()-row['date_start'].min())"
   ]
  },
  {
   "cell_type": "code",
   "execution_count": null,
   "id": "b040fa7f",
   "metadata": {},
   "outputs": [],
   "source": [
    "result = sample.groupby(['member_id', 'type']).apply(lambda row: row['date_end'].max()-row['date_start'].min())"
   ]
  },
  {
   "cell_type": "code",
   "execution_count": null,
   "id": "6613e2d9",
   "metadata": {},
   "outputs": [],
   "source": [
    "result"
   ]
  },
  {
   "cell_type": "code",
   "execution_count": null,
   "id": "a14e9233",
   "metadata": {},
   "outputs": [],
   "source": [
    "sample['relativedelta'] = "
   ]
  },
  {
   "cell_type": "code",
   "execution_count": null,
   "id": "b2db02c5",
   "metadata": {},
   "outputs": [],
   "source": [
    "sample['transaction_class'] = np.where(sample['date_start']+pd.Timedelta(3, unit='D')<sample['test'], 'other_transaction', 'same transaction')"
   ]
  },
  {
   "cell_type": "code",
   "execution_count": null,
   "id": "02780bee",
   "metadata": {},
   "outputs": [],
   "source": [
    "sample"
   ]
  },
  {
   "cell_type": "code",
   "execution_count": null,
   "id": "d508c445",
   "metadata": {},
   "outputs": [],
   "source": [
    "sample.groupby(['member_id', 'type', 'transaction_class']).agg({\n",
    "    'date_start': min,\n",
    "    'date_end': max\n",
    "})"
   ]
  },
  {
   "cell_type": "code",
   "execution_count": null,
   "id": "ba6688f5",
   "metadata": {},
   "outputs": [],
   "source": [
    "sample['test_bis'] = sample['date_start'] - sample['test']"
   ]
  },
  {
   "cell_type": "code",
   "execution_count": null,
   "id": "ca5338bb",
   "metadata": {},
   "outputs": [],
   "source": [
    "sample"
   ]
  },
  {
   "cell_type": "code",
   "execution_count": null,
   "id": "5e3b9d24",
   "metadata": {},
   "outputs": [],
   "source": [
    "sample['test_bis'] + pd.Timedelta(3, unit='D') "
   ]
  },
  {
   "cell_type": "code",
   "execution_count": 12,
   "id": "5797119d",
   "metadata": {},
   "outputs": [],
   "source": [
    "experiment = df.copy()"
   ]
  },
  {
   "cell_type": "code",
   "execution_count": null,
   "id": "eb06f23b",
   "metadata": {},
   "outputs": [],
   "source": [
    "# get number of members\n",
    "df.member_id.nunique()"
   ]
  },
  {
   "cell_type": "code",
   "execution_count": 11,
   "id": "c0781f3d",
   "metadata": {},
   "outputs": [],
   "source": [
    "def _group_transaction(df):\n",
    "    df['end_date_alg'] = df.groupby(['member_id', 'type'])['date_end'].shift(1)\n",
    "    return np.where(df['date_start']+pd.Timedelta(3, unit='D')<df['end_date_alg'], 'other_transaction', 'same transaction')"
   ]
  },
  {
   "cell_type": "code",
   "execution_count": null,
   "id": "6f46d391",
   "metadata": {},
   "outputs": [],
   "source": [
    "df['date_start']+pd.Timedelta(3, unit='D')"
   ]
  },
  {
   "cell_type": "code",
   "execution_count": 13,
   "id": "0848e864",
   "metadata": {},
   "outputs": [],
   "source": [
    "experiment['transaction_class'] = _group_transaction(experiment)"
   ]
  },
  {
   "cell_type": "code",
   "execution_count": 14,
   "id": "7d038fd6",
   "metadata": {},
   "outputs": [
    {
     "data": {
      "text/html": [
       "<div>\n",
       "<style scoped>\n",
       "    .dataframe tbody tr th:only-of-type {\n",
       "        vertical-align: middle;\n",
       "    }\n",
       "\n",
       "    .dataframe tbody tr th {\n",
       "        vertical-align: top;\n",
       "    }\n",
       "\n",
       "    .dataframe thead th {\n",
       "        text-align: right;\n",
       "    }\n",
       "</style>\n",
       "<table border=\"1\" class=\"dataframe\">\n",
       "  <thead>\n",
       "    <tr style=\"text-align: right;\">\n",
       "      <th></th>\n",
       "      <th>member_id</th>\n",
       "      <th>date_start</th>\n",
       "      <th>date_end</th>\n",
       "      <th>type</th>\n",
       "      <th>end_date_alg</th>\n",
       "      <th>transaction_class</th>\n",
       "    </tr>\n",
       "  </thead>\n",
       "  <tbody>\n",
       "    <tr>\n",
       "      <th>0</th>\n",
       "      <td>1</td>\n",
       "      <td>2018-10-31</td>\n",
       "      <td>2018-11-30</td>\n",
       "      <td>1</td>\n",
       "      <td>NaT</td>\n",
       "      <td>same transaction</td>\n",
       "    </tr>\n",
       "    <tr>\n",
       "      <th>1</th>\n",
       "      <td>1</td>\n",
       "      <td>2018-12-01</td>\n",
       "      <td>2019-01-01</td>\n",
       "      <td>1</td>\n",
       "      <td>2018-11-30</td>\n",
       "      <td>same transaction</td>\n",
       "    </tr>\n",
       "    <tr>\n",
       "      <th>2</th>\n",
       "      <td>2</td>\n",
       "      <td>2019-01-18</td>\n",
       "      <td>2019-02-17</td>\n",
       "      <td>3</td>\n",
       "      <td>NaT</td>\n",
       "      <td>same transaction</td>\n",
       "    </tr>\n",
       "    <tr>\n",
       "      <th>3</th>\n",
       "      <td>2</td>\n",
       "      <td>2019-02-19</td>\n",
       "      <td>2019-03-22</td>\n",
       "      <td>3</td>\n",
       "      <td>2019-02-17</td>\n",
       "      <td>same transaction</td>\n",
       "    </tr>\n",
       "    <tr>\n",
       "      <th>4</th>\n",
       "      <td>2</td>\n",
       "      <td>2019-03-23</td>\n",
       "      <td>2019-04-23</td>\n",
       "      <td>3</td>\n",
       "      <td>2019-03-22</td>\n",
       "      <td>same transaction</td>\n",
       "    </tr>\n",
       "    <tr>\n",
       "      <th>...</th>\n",
       "      <td>...</td>\n",
       "      <td>...</td>\n",
       "      <td>...</td>\n",
       "      <td>...</td>\n",
       "      <td>...</td>\n",
       "      <td>...</td>\n",
       "    </tr>\n",
       "    <tr>\n",
       "      <th>24994</th>\n",
       "      <td>9998</td>\n",
       "      <td>2019-06-05</td>\n",
       "      <td>2019-07-05</td>\n",
       "      <td>2</td>\n",
       "      <td>NaT</td>\n",
       "      <td>same transaction</td>\n",
       "    </tr>\n",
       "    <tr>\n",
       "      <th>24995</th>\n",
       "      <td>9998</td>\n",
       "      <td>2019-09-03</td>\n",
       "      <td>2019-10-04</td>\n",
       "      <td>1</td>\n",
       "      <td>NaT</td>\n",
       "      <td>same transaction</td>\n",
       "    </tr>\n",
       "    <tr>\n",
       "      <th>24996</th>\n",
       "      <td>9998</td>\n",
       "      <td>2019-10-04</td>\n",
       "      <td>2019-11-04</td>\n",
       "      <td>1</td>\n",
       "      <td>2019-10-04</td>\n",
       "      <td>same transaction</td>\n",
       "    </tr>\n",
       "    <tr>\n",
       "      <th>24997</th>\n",
       "      <td>9998</td>\n",
       "      <td>2019-11-06</td>\n",
       "      <td>2019-12-07</td>\n",
       "      <td>1</td>\n",
       "      <td>2019-11-04</td>\n",
       "      <td>same transaction</td>\n",
       "    </tr>\n",
       "    <tr>\n",
       "      <th>24998</th>\n",
       "      <td>9999</td>\n",
       "      <td>2019-03-14</td>\n",
       "      <td>2019-04-13</td>\n",
       "      <td>1</td>\n",
       "      <td>NaT</td>\n",
       "      <td>same transaction</td>\n",
       "    </tr>\n",
       "  </tbody>\n",
       "</table>\n",
       "<p>24999 rows × 6 columns</p>\n",
       "</div>"
      ],
      "text/plain": [
       "       member_id date_start   date_end  type end_date_alg transaction_class\n",
       "0              1 2018-10-31 2018-11-30     1          NaT  same transaction\n",
       "1              1 2018-12-01 2019-01-01     1   2018-11-30  same transaction\n",
       "2              2 2019-01-18 2019-02-17     3          NaT  same transaction\n",
       "3              2 2019-02-19 2019-03-22     3   2019-02-17  same transaction\n",
       "4              2 2019-03-23 2019-04-23     3   2019-03-22  same transaction\n",
       "...          ...        ...        ...   ...          ...               ...\n",
       "24994       9998 2019-06-05 2019-07-05     2          NaT  same transaction\n",
       "24995       9998 2019-09-03 2019-10-04     1          NaT  same transaction\n",
       "24996       9998 2019-10-04 2019-11-04     1   2019-10-04  same transaction\n",
       "24997       9998 2019-11-06 2019-12-07     1   2019-11-04  same transaction\n",
       "24998       9999 2019-03-14 2019-04-13     1          NaT  same transaction\n",
       "\n",
       "[24999 rows x 6 columns]"
      ]
     },
     "execution_count": 14,
     "metadata": {},
     "output_type": "execute_result"
    }
   ],
   "source": [
    "experiment"
   ]
  },
  {
   "cell_type": "code",
   "execution_count": 15,
   "id": "30ca8744",
   "metadata": {},
   "outputs": [
    {
     "data": {
      "text/plain": [
       "same transaction    24999\n",
       "Name: transaction_class, dtype: int64"
      ]
     },
     "execution_count": 15,
     "metadata": {},
     "output_type": "execute_result"
    }
   ],
   "source": [
    "experiment.transaction_class.value_counts()"
   ]
  },
  {
   "cell_type": "code",
   "execution_count": 16,
   "id": "ecdf1c23",
   "metadata": {},
   "outputs": [],
   "source": [
    "result = experiment.groupby(['member_id', 'type', 'transaction_class']).agg({\n",
    "    'date_start': min,\n",
    "    'date_end': max\n",
    "})"
   ]
  },
  {
   "cell_type": "code",
   "execution_count": 17,
   "id": "96af1f93",
   "metadata": {},
   "outputs": [
    {
     "data": {
      "text/html": [
       "<div>\n",
       "<style scoped>\n",
       "    .dataframe tbody tr th:only-of-type {\n",
       "        vertical-align: middle;\n",
       "    }\n",
       "\n",
       "    .dataframe tbody tr th {\n",
       "        vertical-align: top;\n",
       "    }\n",
       "\n",
       "    .dataframe thead th {\n",
       "        text-align: right;\n",
       "    }\n",
       "</style>\n",
       "<table border=\"1\" class=\"dataframe\">\n",
       "  <thead>\n",
       "    <tr style=\"text-align: right;\">\n",
       "      <th></th>\n",
       "      <th></th>\n",
       "      <th></th>\n",
       "      <th>date_start</th>\n",
       "      <th>date_end</th>\n",
       "    </tr>\n",
       "    <tr>\n",
       "      <th>member_id</th>\n",
       "      <th>type</th>\n",
       "      <th>transaction_class</th>\n",
       "      <th></th>\n",
       "      <th></th>\n",
       "    </tr>\n",
       "  </thead>\n",
       "  <tbody>\n",
       "    <tr>\n",
       "      <th>1</th>\n",
       "      <th>1</th>\n",
       "      <th>same transaction</th>\n",
       "      <td>2018-10-31</td>\n",
       "      <td>2019-01-01</td>\n",
       "    </tr>\n",
       "    <tr>\n",
       "      <th>2</th>\n",
       "      <th>3</th>\n",
       "      <th>same transaction</th>\n",
       "      <td>2019-01-18</td>\n",
       "      <td>2019-04-23</td>\n",
       "    </tr>\n",
       "    <tr>\n",
       "      <th>3</th>\n",
       "      <th>3</th>\n",
       "      <th>same transaction</th>\n",
       "      <td>2019-03-30</td>\n",
       "      <td>2019-07-29</td>\n",
       "    </tr>\n",
       "    <tr>\n",
       "      <th>4</th>\n",
       "      <th>2</th>\n",
       "      <th>same transaction</th>\n",
       "      <td>2019-11-29</td>\n",
       "      <td>2020-03-16</td>\n",
       "    </tr>\n",
       "    <tr>\n",
       "      <th>5</th>\n",
       "      <th>3</th>\n",
       "      <th>same transaction</th>\n",
       "      <td>2019-11-28</td>\n",
       "      <td>2020-01-29</td>\n",
       "    </tr>\n",
       "    <tr>\n",
       "      <th>...</th>\n",
       "      <th>...</th>\n",
       "      <th>...</th>\n",
       "      <td>...</td>\n",
       "      <td>...</td>\n",
       "    </tr>\n",
       "    <tr>\n",
       "      <th rowspan=\"2\" valign=\"top\">9997</th>\n",
       "      <th>1</th>\n",
       "      <th>same transaction</th>\n",
       "      <td>2019-01-07</td>\n",
       "      <td>2019-06-09</td>\n",
       "    </tr>\n",
       "    <tr>\n",
       "      <th>2</th>\n",
       "      <th>same transaction</th>\n",
       "      <td>2019-02-08</td>\n",
       "      <td>2019-03-11</td>\n",
       "    </tr>\n",
       "    <tr>\n",
       "      <th rowspan=\"2\" valign=\"top\">9998</th>\n",
       "      <th>1</th>\n",
       "      <th>same transaction</th>\n",
       "      <td>2019-09-03</td>\n",
       "      <td>2019-12-07</td>\n",
       "    </tr>\n",
       "    <tr>\n",
       "      <th>2</th>\n",
       "      <th>same transaction</th>\n",
       "      <td>2019-06-05</td>\n",
       "      <td>2019-07-05</td>\n",
       "    </tr>\n",
       "    <tr>\n",
       "      <th>9999</th>\n",
       "      <th>1</th>\n",
       "      <th>same transaction</th>\n",
       "      <td>2019-03-14</td>\n",
       "      <td>2019-04-13</td>\n",
       "    </tr>\n",
       "  </tbody>\n",
       "</table>\n",
       "<p>12725 rows × 2 columns</p>\n",
       "</div>"
      ],
      "text/plain": [
       "                                 date_start   date_end\n",
       "member_id type transaction_class                      \n",
       "1         1    same transaction  2018-10-31 2019-01-01\n",
       "2         3    same transaction  2019-01-18 2019-04-23\n",
       "3         3    same transaction  2019-03-30 2019-07-29\n",
       "4         2    same transaction  2019-11-29 2020-03-16\n",
       "5         3    same transaction  2019-11-28 2020-01-29\n",
       "...                                     ...        ...\n",
       "9997      1    same transaction  2019-01-07 2019-06-09\n",
       "          2    same transaction  2019-02-08 2019-03-11\n",
       "9998      1    same transaction  2019-09-03 2019-12-07\n",
       "          2    same transaction  2019-06-05 2019-07-05\n",
       "9999      1    same transaction  2019-03-14 2019-04-13\n",
       "\n",
       "[12725 rows x 2 columns]"
      ]
     },
     "execution_count": 17,
     "metadata": {},
     "output_type": "execute_result"
    }
   ],
   "source": [
    "result"
   ]
  },
  {
   "cell_type": "code",
   "execution_count": null,
   "id": "365c73a3",
   "metadata": {},
   "outputs": [],
   "source": [
    "result.columns"
   ]
  },
  {
   "cell_type": "code",
   "execution_count": null,
   "id": "b33e3080",
   "metadata": {},
   "outputs": [],
   "source": [
    "result.index"
   ]
  },
  {
   "cell_type": "code",
   "execution_count": null,
   "id": "8759f7fa",
   "metadata": {},
   "outputs": [],
   "source": [
    "result.reset_index(level='transaction_class').drop('transaction_class', axis=1)"
   ]
  },
  {
   "cell_type": "code",
   "execution_count": 18,
   "id": "1237d50f",
   "metadata": {},
   "outputs": [],
   "source": [
    "final_result = result.reset_index().drop('transaction_class', axis=1)"
   ]
  },
  {
   "cell_type": "code",
   "execution_count": 19,
   "id": "78c0c2e4",
   "metadata": {},
   "outputs": [
    {
     "data": {
      "text/html": [
       "<div>\n",
       "<style scoped>\n",
       "    .dataframe tbody tr th:only-of-type {\n",
       "        vertical-align: middle;\n",
       "    }\n",
       "\n",
       "    .dataframe tbody tr th {\n",
       "        vertical-align: top;\n",
       "    }\n",
       "\n",
       "    .dataframe thead th {\n",
       "        text-align: right;\n",
       "    }\n",
       "</style>\n",
       "<table border=\"1\" class=\"dataframe\">\n",
       "  <thead>\n",
       "    <tr style=\"text-align: right;\">\n",
       "      <th></th>\n",
       "      <th>member_id</th>\n",
       "      <th>type</th>\n",
       "      <th>date_start</th>\n",
       "      <th>date_end</th>\n",
       "    </tr>\n",
       "  </thead>\n",
       "  <tbody>\n",
       "    <tr>\n",
       "      <th>0</th>\n",
       "      <td>1</td>\n",
       "      <td>1</td>\n",
       "      <td>2018-10-31</td>\n",
       "      <td>2019-01-01</td>\n",
       "    </tr>\n",
       "    <tr>\n",
       "      <th>1</th>\n",
       "      <td>2</td>\n",
       "      <td>3</td>\n",
       "      <td>2019-01-18</td>\n",
       "      <td>2019-04-23</td>\n",
       "    </tr>\n",
       "    <tr>\n",
       "      <th>2</th>\n",
       "      <td>3</td>\n",
       "      <td>3</td>\n",
       "      <td>2019-03-30</td>\n",
       "      <td>2019-07-29</td>\n",
       "    </tr>\n",
       "    <tr>\n",
       "      <th>3</th>\n",
       "      <td>4</td>\n",
       "      <td>2</td>\n",
       "      <td>2019-11-29</td>\n",
       "      <td>2020-03-16</td>\n",
       "    </tr>\n",
       "    <tr>\n",
       "      <th>4</th>\n",
       "      <td>5</td>\n",
       "      <td>3</td>\n",
       "      <td>2019-11-28</td>\n",
       "      <td>2020-01-29</td>\n",
       "    </tr>\n",
       "    <tr>\n",
       "      <th>...</th>\n",
       "      <td>...</td>\n",
       "      <td>...</td>\n",
       "      <td>...</td>\n",
       "      <td>...</td>\n",
       "    </tr>\n",
       "    <tr>\n",
       "      <th>12720</th>\n",
       "      <td>9997</td>\n",
       "      <td>1</td>\n",
       "      <td>2019-01-07</td>\n",
       "      <td>2019-06-09</td>\n",
       "    </tr>\n",
       "    <tr>\n",
       "      <th>12721</th>\n",
       "      <td>9997</td>\n",
       "      <td>2</td>\n",
       "      <td>2019-02-08</td>\n",
       "      <td>2019-03-11</td>\n",
       "    </tr>\n",
       "    <tr>\n",
       "      <th>12722</th>\n",
       "      <td>9998</td>\n",
       "      <td>1</td>\n",
       "      <td>2019-09-03</td>\n",
       "      <td>2019-12-07</td>\n",
       "    </tr>\n",
       "    <tr>\n",
       "      <th>12723</th>\n",
       "      <td>9998</td>\n",
       "      <td>2</td>\n",
       "      <td>2019-06-05</td>\n",
       "      <td>2019-07-05</td>\n",
       "    </tr>\n",
       "    <tr>\n",
       "      <th>12724</th>\n",
       "      <td>9999</td>\n",
       "      <td>1</td>\n",
       "      <td>2019-03-14</td>\n",
       "      <td>2019-04-13</td>\n",
       "    </tr>\n",
       "  </tbody>\n",
       "</table>\n",
       "<p>12725 rows × 4 columns</p>\n",
       "</div>"
      ],
      "text/plain": [
       "       member_id  type date_start   date_end\n",
       "0              1     1 2018-10-31 2019-01-01\n",
       "1              2     3 2019-01-18 2019-04-23\n",
       "2              3     3 2019-03-30 2019-07-29\n",
       "3              4     2 2019-11-29 2020-03-16\n",
       "4              5     3 2019-11-28 2020-01-29\n",
       "...          ...   ...        ...        ...\n",
       "12720       9997     1 2019-01-07 2019-06-09\n",
       "12721       9997     2 2019-02-08 2019-03-11\n",
       "12722       9998     1 2019-09-03 2019-12-07\n",
       "12723       9998     2 2019-06-05 2019-07-05\n",
       "12724       9999     1 2019-03-14 2019-04-13\n",
       "\n",
       "[12725 rows x 4 columns]"
      ]
     },
     "execution_count": 19,
     "metadata": {},
     "output_type": "execute_result"
    }
   ],
   "source": [
    "final_result"
   ]
  },
  {
   "cell_type": "code",
   "execution_count": null,
   "id": "7aec712c",
   "metadata": {},
   "outputs": [],
   "source": [
    "final_result.member_id.value_counts()"
   ]
  },
  {
   "cell_type": "code",
   "execution_count": null,
   "id": "37099faf",
   "metadata": {},
   "outputs": [],
   "source": [
    "final_result[final_result['member_id']==9637]"
   ]
  },
  {
   "cell_type": "code",
   "execution_count": null,
   "id": "246a5363",
   "metadata": {},
   "outputs": [],
   "source": []
  },
  {
   "cell_type": "code",
   "execution_count": null,
   "id": "c9eddabe",
   "metadata": {},
   "outputs": [],
   "source": []
  }
 ],
 "metadata": {
  "kernelspec": {
   "display_name": "Python 3 (ipykernel)",
   "language": "python",
   "name": "python3"
  },
  "language_info": {
   "codemirror_mode": {
    "name": "ipython",
    "version": 3
   },
   "file_extension": ".py",
   "mimetype": "text/x-python",
   "name": "python",
   "nbconvert_exporter": "python",
   "pygments_lexer": "ipython3",
   "version": "3.9.6"
  }
 },
 "nbformat": 4,
 "nbformat_minor": 5
}
