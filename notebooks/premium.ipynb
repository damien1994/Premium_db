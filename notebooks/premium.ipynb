{
 "cells": [
  {
   "cell_type": "code",
   "execution_count": null,
   "id": "4be124c5",
   "metadata": {},
   "outputs": [],
   "source": [
    "!ls"
   ]
  },
  {
   "cell_type": "code",
   "execution_count": 1,
   "id": "f6a3a0f5",
   "metadata": {},
   "outputs": [],
   "source": [
    "import sqlite3\n",
    "import pandas as pd\n",
    "from dateutil.relativedelta import relativedelta\n",
    "import numpy as np"
   ]
  },
  {
   "cell_type": "code",
   "execution_count": null,
   "id": "e429371b",
   "metadata": {},
   "outputs": [],
   "source": [
    "DATES_COLS = ['date_start', 'date_end']"
   ]
  },
  {
   "cell_type": "code",
   "execution_count": null,
   "id": "a8d3f21b",
   "metadata": {},
   "outputs": [],
   "source": [
    "\n",
    "# Create your connection.\n",
    "cnx = sqlite3.connect('../db/db.db')\n",
    "\n",
    "df = pd.read_sql_query(\"SELECT * FROM premium_payments\", cnx, parse_dates=DATES_COLS)"
   ]
  },
  {
   "cell_type": "code",
   "execution_count": null,
   "id": "e91b6c04",
   "metadata": {},
   "outputs": [],
   "source": [
    "df.head()"
   ]
  },
  {
   "cell_type": "code",
   "execution_count": null,
   "id": "69ef40bc",
   "metadata": {},
   "outputs": [],
   "source": [
    "df.shape"
   ]
  },
  {
   "cell_type": "code",
   "execution_count": null,
   "id": "0e3cbfbc",
   "metadata": {},
   "outputs": [],
   "source": [
    "df.dtypes"
   ]
  },
  {
   "cell_type": "code",
   "execution_count": null,
   "id": "0bb58983",
   "metadata": {},
   "outputs": [],
   "source": [
    "df['date_start'] = pd.to_datetime(df['date_start'])\n",
    "df['date_end'] = pd.to_datetime(df['date_end'])"
   ]
  },
  {
   "cell_type": "code",
   "execution_count": null,
   "id": "458ce6b6",
   "metadata": {},
   "outputs": [],
   "source": [
    "df"
   ]
  },
  {
   "cell_type": "code",
   "execution_count": null,
   "id": "6eab6374",
   "metadata": {},
   "outputs": [],
   "source": [
    "df.member_id.value_counts()"
   ]
  },
  {
   "cell_type": "code",
   "execution_count": null,
   "id": "76e71f9e",
   "metadata": {},
   "outputs": [],
   "source": [
    "# id 1553 get differents type of premium"
   ]
  },
  {
   "cell_type": "code",
   "execution_count": null,
   "id": "93898c39",
   "metadata": {},
   "outputs": [],
   "source": [
    "df[df['member_id'] == 1553]"
   ]
  },
  {
   "cell_type": "code",
   "execution_count": null,
   "id": "ce482fad",
   "metadata": {},
   "outputs": [],
   "source": [
    "sample = df[df['member_id'] == 1553]"
   ]
  },
  {
   "cell_type": "code",
   "execution_count": null,
   "id": "80895280",
   "metadata": {},
   "outputs": [],
   "source": [
    "sample"
   ]
  },
  {
   "cell_type": "code",
   "execution_count": null,
   "id": "afe71805",
   "metadata": {},
   "outputs": [],
   "source": [
    "sample['test'] = sample.groupby(['member_id', 'type'])['date_end'].shift(1)"
   ]
  },
  {
   "cell_type": "code",
   "execution_count": null,
   "id": "539e5d18",
   "metadata": {},
   "outputs": [],
   "source": [
    "sample"
   ]
  },
  {
   "cell_type": "code",
   "execution_count": null,
   "id": "437e4811",
   "metadata": {},
   "outputs": [],
   "source": [
    "sample['date_start'].min()"
   ]
  },
  {
   "cell_type": "code",
   "execution_count": null,
   "id": "f7147c47",
   "metadata": {},
   "outputs": [],
   "source": [
    "#df.merge(df.groupby(['C', 'D']).apply(lambda row: row['B'] - row['A']).sum(level=[0,1]).reset_index())"
   ]
  },
  {
   "cell_type": "code",
   "execution_count": null,
   "id": "1a5ccc12",
   "metadata": {},
   "outputs": [],
   "source": [
    "sample.groupby(['member_id', 'type']).apply(lambda row: row['date_end'].max()-row['date_start'].min())"
   ]
  },
  {
   "cell_type": "code",
   "execution_count": null,
   "id": "2d58179f",
   "metadata": {},
   "outputs": [],
   "source": [
    "sample.groupby(['member_id', 'type']).transform(lambda row: row['date_end'].max()-row['date_start'].min())"
   ]
  },
  {
   "cell_type": "code",
   "execution_count": null,
   "id": "b040fa7f",
   "metadata": {},
   "outputs": [],
   "source": [
    "result = sample.groupby(['member_id', 'type']).apply(lambda row: row['date_end'].max()-row['date_start'].min())"
   ]
  },
  {
   "cell_type": "code",
   "execution_count": null,
   "id": "6613e2d9",
   "metadata": {},
   "outputs": [],
   "source": [
    "result"
   ]
  },
  {
   "cell_type": "code",
   "execution_count": null,
   "id": "a14e9233",
   "metadata": {},
   "outputs": [],
   "source": [
    "sample['relativedelta'] = "
   ]
  },
  {
   "cell_type": "code",
   "execution_count": null,
   "id": "b2db02c5",
   "metadata": {},
   "outputs": [],
   "source": [
    "sample['transaction_class'] = np.where(sample['date_start']+pd.Timedelta(3, unit='D')<sample['test'], 'other_transaction', 'same transaction')"
   ]
  },
  {
   "cell_type": "code",
   "execution_count": null,
   "id": "02780bee",
   "metadata": {},
   "outputs": [],
   "source": [
    "sample"
   ]
  },
  {
   "cell_type": "code",
   "execution_count": null,
   "id": "d508c445",
   "metadata": {},
   "outputs": [],
   "source": [
    "sample.groupby(['member_id', 'type', 'transaction_class']).agg({\n",
    "    'date_start': min,\n",
    "    'date_end': max\n",
    "})"
   ]
  },
  {
   "cell_type": "code",
   "execution_count": null,
   "id": "ba6688f5",
   "metadata": {},
   "outputs": [],
   "source": [
    "sample['test_bis'] = sample['date_start'] - sample['test']"
   ]
  },
  {
   "cell_type": "code",
   "execution_count": null,
   "id": "ca5338bb",
   "metadata": {},
   "outputs": [],
   "source": [
    "sample"
   ]
  },
  {
   "cell_type": "code",
   "execution_count": null,
   "id": "5e3b9d24",
   "metadata": {},
   "outputs": [],
   "source": [
    "sample['test_bis'] + pd.Timedelta(3, unit='D') "
   ]
  },
  {
   "cell_type": "code",
   "execution_count": null,
   "id": "5797119d",
   "metadata": {},
   "outputs": [],
   "source": [
    "experiment = df.copy()"
   ]
  },
  {
   "cell_type": "code",
   "execution_count": null,
   "id": "eb06f23b",
   "metadata": {},
   "outputs": [],
   "source": [
    "# get number of members\n",
    "df.member_id.nunique()"
   ]
  },
  {
   "cell_type": "code",
   "execution_count": null,
   "id": "c0781f3d",
   "metadata": {},
   "outputs": [],
   "source": [
    "def _group_transaction(df):\n",
    "    df['end_date_alg'] = df.groupby(['member_id', 'type'])['date_end'].shift(1)\n",
    "    return np.where(df['date_start']+pd.Timedelta(3, unit='D')<df['end_date_alg'], 'other_transaction', 'same transaction')"
   ]
  },
  {
   "cell_type": "code",
   "execution_count": null,
   "id": "6f46d391",
   "metadata": {},
   "outputs": [],
   "source": [
    "df['date_start']+pd.Timedelta(3, unit='D')"
   ]
  },
  {
   "cell_type": "code",
   "execution_count": null,
   "id": "0848e864",
   "metadata": {},
   "outputs": [],
   "source": [
    "experiment['transaction_class'] = _group_transaction(experiment)"
   ]
  },
  {
   "cell_type": "code",
   "execution_count": null,
   "id": "7d038fd6",
   "metadata": {},
   "outputs": [],
   "source": [
    "experiment"
   ]
  },
  {
   "cell_type": "code",
   "execution_count": null,
   "id": "30ca8744",
   "metadata": {},
   "outputs": [],
   "source": [
    "experiment.transaction_class.value_counts()"
   ]
  },
  {
   "cell_type": "code",
   "execution_count": null,
   "id": "ecdf1c23",
   "metadata": {},
   "outputs": [],
   "source": [
    "result = experiment.groupby(['member_id', 'type', 'transaction_class']).agg({\n",
    "    'date_start': min,\n",
    "    'date_end': max\n",
    "})"
   ]
  },
  {
   "cell_type": "code",
   "execution_count": null,
   "id": "96af1f93",
   "metadata": {},
   "outputs": [],
   "source": [
    "result"
   ]
  },
  {
   "cell_type": "code",
   "execution_count": null,
   "id": "365c73a3",
   "metadata": {},
   "outputs": [],
   "source": [
    "result.columns"
   ]
  },
  {
   "cell_type": "code",
   "execution_count": null,
   "id": "b33e3080",
   "metadata": {},
   "outputs": [],
   "source": [
    "result.index"
   ]
  },
  {
   "cell_type": "code",
   "execution_count": null,
   "id": "8759f7fa",
   "metadata": {},
   "outputs": [],
   "source": [
    "result.reset_index(level='transaction_class').drop('transaction_class', axis=1)"
   ]
  },
  {
   "cell_type": "code",
   "execution_count": null,
   "id": "1237d50f",
   "metadata": {},
   "outputs": [],
   "source": [
    "final_result = result.reset_index().drop('transaction_class', axis=1)"
   ]
  },
  {
   "cell_type": "code",
   "execution_count": null,
   "id": "78c0c2e4",
   "metadata": {},
   "outputs": [],
   "source": [
    "final_result"
   ]
  },
  {
   "cell_type": "code",
   "execution_count": null,
   "id": "7aec712c",
   "metadata": {},
   "outputs": [],
   "source": [
    "final_result.member_id.value_counts()"
   ]
  },
  {
   "cell_type": "code",
   "execution_count": null,
   "id": "37099faf",
   "metadata": {},
   "outputs": [],
   "source": [
    "final_result[final_result['member_id']==9637]"
   ]
  },
  {
   "cell_type": "code",
   "execution_count": null,
   "id": "246a5363",
   "metadata": {},
   "outputs": [],
   "source": []
  },
  {
   "cell_type": "markdown",
   "id": "acfb6f72",
   "metadata": {},
   "source": [
    "check results "
   ]
  },
  {
   "cell_type": "code",
   "execution_count": 5,
   "id": "97694332",
   "metadata": {},
   "outputs": [
    {
     "name": "stdout",
     "output_type": "stream",
     "text": [
      "db.db             db_transformed.db\r\n"
     ]
    }
   ],
   "source": [
    "!ls ../etl/db"
   ]
  },
  {
   "cell_type": "code",
   "execution_count": 6,
   "id": "97564939",
   "metadata": {},
   "outputs": [],
   "source": [
    "# Create your connection.\n",
    "cnx = sqlite3.connect('../etl/db/db_transformed.db')\n",
    "\n",
    "df = pd.read_sql_query(\"SELECT * FROM premium_payments_transformed\", cnx)"
   ]
  },
  {
   "cell_type": "code",
   "execution_count": 7,
   "id": "a48c74f9",
   "metadata": {},
   "outputs": [
    {
     "data": {
      "text/html": [
       "<div>\n",
       "<style scoped>\n",
       "    .dataframe tbody tr th:only-of-type {\n",
       "        vertical-align: middle;\n",
       "    }\n",
       "\n",
       "    .dataframe tbody tr th {\n",
       "        vertical-align: top;\n",
       "    }\n",
       "\n",
       "    .dataframe thead th {\n",
       "        text-align: right;\n",
       "    }\n",
       "</style>\n",
       "<table border=\"1\" class=\"dataframe\">\n",
       "  <thead>\n",
       "    <tr style=\"text-align: right;\">\n",
       "      <th></th>\n",
       "      <th>member_id</th>\n",
       "      <th>type</th>\n",
       "      <th>date_start</th>\n",
       "      <th>date_end</th>\n",
       "    </tr>\n",
       "  </thead>\n",
       "  <tbody>\n",
       "    <tr>\n",
       "      <th>0</th>\n",
       "      <td>1</td>\n",
       "      <td>1</td>\n",
       "      <td>2018-10-31 00:00:00</td>\n",
       "      <td>2019-01-01 00:00:00</td>\n",
       "    </tr>\n",
       "    <tr>\n",
       "      <th>1</th>\n",
       "      <td>2</td>\n",
       "      <td>3</td>\n",
       "      <td>2019-01-18 00:00:00</td>\n",
       "      <td>2019-04-23 00:00:00</td>\n",
       "    </tr>\n",
       "    <tr>\n",
       "      <th>2</th>\n",
       "      <td>3</td>\n",
       "      <td>3</td>\n",
       "      <td>2019-03-30 00:00:00</td>\n",
       "      <td>2019-07-29 00:00:00</td>\n",
       "    </tr>\n",
       "    <tr>\n",
       "      <th>3</th>\n",
       "      <td>4</td>\n",
       "      <td>2</td>\n",
       "      <td>2019-11-29 00:00:00</td>\n",
       "      <td>2020-03-16 00:00:00</td>\n",
       "    </tr>\n",
       "    <tr>\n",
       "      <th>4</th>\n",
       "      <td>5</td>\n",
       "      <td>3</td>\n",
       "      <td>2019-11-28 00:00:00</td>\n",
       "      <td>2020-01-29 00:00:00</td>\n",
       "    </tr>\n",
       "    <tr>\n",
       "      <th>...</th>\n",
       "      <td>...</td>\n",
       "      <td>...</td>\n",
       "      <td>...</td>\n",
       "      <td>...</td>\n",
       "    </tr>\n",
       "    <tr>\n",
       "      <th>12720</th>\n",
       "      <td>9997</td>\n",
       "      <td>1</td>\n",
       "      <td>2019-01-07 00:00:00</td>\n",
       "      <td>2019-06-09 00:00:00</td>\n",
       "    </tr>\n",
       "    <tr>\n",
       "      <th>12721</th>\n",
       "      <td>9997</td>\n",
       "      <td>2</td>\n",
       "      <td>2019-02-08 00:00:00</td>\n",
       "      <td>2019-03-11 00:00:00</td>\n",
       "    </tr>\n",
       "    <tr>\n",
       "      <th>12722</th>\n",
       "      <td>9998</td>\n",
       "      <td>1</td>\n",
       "      <td>2019-09-03 00:00:00</td>\n",
       "      <td>2019-12-07 00:00:00</td>\n",
       "    </tr>\n",
       "    <tr>\n",
       "      <th>12723</th>\n",
       "      <td>9998</td>\n",
       "      <td>2</td>\n",
       "      <td>2019-06-05 00:00:00</td>\n",
       "      <td>2019-07-05 00:00:00</td>\n",
       "    </tr>\n",
       "    <tr>\n",
       "      <th>12724</th>\n",
       "      <td>9999</td>\n",
       "      <td>1</td>\n",
       "      <td>2019-03-14 00:00:00</td>\n",
       "      <td>2019-04-13 00:00:00</td>\n",
       "    </tr>\n",
       "  </tbody>\n",
       "</table>\n",
       "<p>12725 rows × 4 columns</p>\n",
       "</div>"
      ],
      "text/plain": [
       "       member_id  type           date_start             date_end\n",
       "0              1     1  2018-10-31 00:00:00  2019-01-01 00:00:00\n",
       "1              2     3  2019-01-18 00:00:00  2019-04-23 00:00:00\n",
       "2              3     3  2019-03-30 00:00:00  2019-07-29 00:00:00\n",
       "3              4     2  2019-11-29 00:00:00  2020-03-16 00:00:00\n",
       "4              5     3  2019-11-28 00:00:00  2020-01-29 00:00:00\n",
       "...          ...   ...                  ...                  ...\n",
       "12720       9997     1  2019-01-07 00:00:00  2019-06-09 00:00:00\n",
       "12721       9997     2  2019-02-08 00:00:00  2019-03-11 00:00:00\n",
       "12722       9998     1  2019-09-03 00:00:00  2019-12-07 00:00:00\n",
       "12723       9998     2  2019-06-05 00:00:00  2019-07-05 00:00:00\n",
       "12724       9999     1  2019-03-14 00:00:00  2019-04-13 00:00:00\n",
       "\n",
       "[12725 rows x 4 columns]"
      ]
     },
     "execution_count": 7,
     "metadata": {},
     "output_type": "execute_result"
    }
   ],
   "source": [
    "df"
   ]
  },
  {
   "cell_type": "code",
   "execution_count": null,
   "id": "f0972a57",
   "metadata": {},
   "outputs": [],
   "source": []
  }
 ],
 "metadata": {
  "kernelspec": {
   "display_name": "Python 3 (ipykernel)",
   "language": "python",
   "name": "python3"
  },
  "language_info": {
   "codemirror_mode": {
    "name": "ipython",
    "version": 3
   },
   "file_extension": ".py",
   "mimetype": "text/x-python",
   "name": "python",
   "nbconvert_exporter": "python",
   "pygments_lexer": "ipython3",
   "version": "3.8.2"
  }
 },
 "nbformat": 4,
 "nbformat_minor": 5
}
