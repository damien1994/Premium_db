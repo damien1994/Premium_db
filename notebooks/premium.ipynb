{
 "cells": [
  {
   "cell_type": "code",
   "execution_count": null,
   "id": "4be124c5",
   "metadata": {},
   "outputs": [],
   "source": [
    "!ls ../"
   ]
  },
  {
   "cell_type": "code",
   "execution_count": 2,
   "id": "f6a3a0f5",
   "metadata": {},
   "outputs": [],
   "source": [
    "import sqlite3\n",
    "import pandas as pd\n",
    "from dateutil.relativedelta import relativedelta\n",
    "import numpy as np"
   ]
  },
  {
   "cell_type": "code",
   "execution_count": 3,
   "id": "e429371b",
   "metadata": {},
   "outputs": [],
   "source": [
    "DATES_COLS = ['date_start', 'date_end']"
   ]
  },
  {
   "cell_type": "code",
   "execution_count": null,
   "id": "a8d3f21b",
   "metadata": {},
   "outputs": [],
   "source": [
    "\n",
    "# Create your connection.\n",
    "cnx = sqlite3.connect('../etl/db/db.db')\n",
    "\n",
    "df = pd.read_sql_query(\"SELECT * FROM premium_payments\", cnx, parse_dates=DATES_COLS)"
   ]
  },
  {
   "cell_type": "code",
   "execution_count": null,
   "id": "e91b6c04",
   "metadata": {},
   "outputs": [],
   "source": [
    "df.head()"
   ]
  },
  {
   "cell_type": "code",
   "execution_count": null,
   "id": "69ef40bc",
   "metadata": {},
   "outputs": [],
   "source": [
    "df.shape"
   ]
  },
  {
   "cell_type": "code",
   "execution_count": null,
   "id": "0e3cbfbc",
   "metadata": {},
   "outputs": [],
   "source": [
    "df.dtypes"
   ]
  },
  {
   "cell_type": "code",
   "execution_count": null,
   "id": "0bb58983",
   "metadata": {},
   "outputs": [],
   "source": [
    "df['date_start'] = pd.to_datetime(df['date_start'])\n",
    "df['date_end'] = pd.to_datetime(df['date_end'])"
   ]
  },
  {
   "cell_type": "code",
   "execution_count": null,
   "id": "458ce6b6",
   "metadata": {},
   "outputs": [],
   "source": [
    "df"
   ]
  },
  {
   "cell_type": "code",
   "execution_count": null,
   "id": "6eab6374",
   "metadata": {},
   "outputs": [],
   "source": [
    "df.member_id.value_counts()"
   ]
  },
  {
   "cell_type": "code",
   "execution_count": null,
   "id": "76e71f9e",
   "metadata": {},
   "outputs": [],
   "source": [
    "# id 1553 get differents type of premium"
   ]
  },
  {
   "cell_type": "code",
   "execution_count": null,
   "id": "93898c39",
   "metadata": {},
   "outputs": [],
   "source": [
    "df[df['member_id'] == 1553]"
   ]
  },
  {
   "cell_type": "code",
   "execution_count": null,
   "id": "ce482fad",
   "metadata": {},
   "outputs": [],
   "source": [
    "sample = df[df['member_id'] == 1553]"
   ]
  },
  {
   "cell_type": "code",
   "execution_count": null,
   "id": "80895280",
   "metadata": {},
   "outputs": [],
   "source": [
    "sample"
   ]
  },
  {
   "cell_type": "code",
   "execution_count": null,
   "id": "afe71805",
   "metadata": {},
   "outputs": [],
   "source": [
    "sample['test'] = sample.groupby(['member_id', 'type'])['date_end'].shift(1)"
   ]
  },
  {
   "cell_type": "code",
   "execution_count": null,
   "id": "539e5d18",
   "metadata": {},
   "outputs": [],
   "source": [
    "sample"
   ]
  },
  {
   "cell_type": "code",
   "execution_count": null,
   "id": "437e4811",
   "metadata": {},
   "outputs": [],
   "source": [
    "sample['date_start'].min()"
   ]
  },
  {
   "cell_type": "code",
   "execution_count": null,
   "id": "f7147c47",
   "metadata": {},
   "outputs": [],
   "source": [
    "#df.merge(df.groupby(['C', 'D']).apply(lambda row: row['B'] - row['A']).sum(level=[0,1]).reset_index())"
   ]
  },
  {
   "cell_type": "code",
   "execution_count": null,
   "id": "1a5ccc12",
   "metadata": {},
   "outputs": [],
   "source": [
    "sample.groupby(['member_id', 'type']).apply(lambda row: row['date_end'].max()-row['date_start'].min())"
   ]
  },
  {
   "cell_type": "code",
   "execution_count": null,
   "id": "2d58179f",
   "metadata": {},
   "outputs": [],
   "source": [
    "sample.groupby(['member_id', 'type']).transform(lambda row: row['date_end'].max()-row['date_start'].min())"
   ]
  },
  {
   "cell_type": "code",
   "execution_count": null,
   "id": "b040fa7f",
   "metadata": {},
   "outputs": [],
   "source": [
    "result = sample.groupby(['member_id', 'type']).apply(lambda row: row['date_end'].max()-row['date_start'].min())"
   ]
  },
  {
   "cell_type": "code",
   "execution_count": null,
   "id": "6613e2d9",
   "metadata": {},
   "outputs": [],
   "source": [
    "result"
   ]
  },
  {
   "cell_type": "code",
   "execution_count": null,
   "id": "a14e9233",
   "metadata": {},
   "outputs": [],
   "source": [
    "sample['relativedelta'] = "
   ]
  },
  {
   "cell_type": "code",
   "execution_count": null,
   "id": "b2db02c5",
   "metadata": {},
   "outputs": [],
   "source": [
    "sample['transaction_class'] = np.where(sample['date_start']+pd.Timedelta(3, unit='D')<sample['test'], 'other_transaction', 'same transaction')"
   ]
  },
  {
   "cell_type": "code",
   "execution_count": null,
   "id": "02780bee",
   "metadata": {},
   "outputs": [],
   "source": [
    "sample"
   ]
  },
  {
   "cell_type": "code",
   "execution_count": null,
   "id": "d508c445",
   "metadata": {},
   "outputs": [],
   "source": [
    "sample.groupby(['member_id', 'type', 'transaction_class']).agg({\n",
    "    'date_start': min,\n",
    "    'date_end': max\n",
    "})"
   ]
  },
  {
   "cell_type": "code",
   "execution_count": null,
   "id": "ba6688f5",
   "metadata": {},
   "outputs": [],
   "source": [
    "sample['test_bis'] = sample['date_start'] - sample['test']"
   ]
  },
  {
   "cell_type": "code",
   "execution_count": null,
   "id": "ca5338bb",
   "metadata": {},
   "outputs": [],
   "source": [
    "sample"
   ]
  },
  {
   "cell_type": "code",
   "execution_count": null,
   "id": "5e3b9d24",
   "metadata": {},
   "outputs": [],
   "source": [
    "sample['test_bis'] + pd.Timedelta(3, unit='D') "
   ]
  },
  {
   "cell_type": "code",
   "execution_count": null,
   "id": "5797119d",
   "metadata": {},
   "outputs": [],
   "source": [
    "experiment = df.copy()"
   ]
  },
  {
   "cell_type": "code",
   "execution_count": null,
   "id": "eb06f23b",
   "metadata": {},
   "outputs": [],
   "source": [
    "# get number of members\n",
    "df.member_id.nunique()"
   ]
  },
  {
   "cell_type": "code",
   "execution_count": null,
   "id": "c0781f3d",
   "metadata": {},
   "outputs": [],
   "source": [
    "def _group_transaction(df):\n",
    "    df['end_date_alg'] = df.groupby(['member_id', 'type'])['date_end'].shift(1)\n",
    "    return np.where(df['date_start']+pd.Timedelta(3, unit='D')<df['end_date_alg'], 'other_transaction', 'same transaction')"
   ]
  },
  {
   "cell_type": "code",
   "execution_count": null,
   "id": "6f46d391",
   "metadata": {},
   "outputs": [],
   "source": [
    "df['date_start']+pd.Timedelta(3, unit='D')"
   ]
  },
  {
   "cell_type": "code",
   "execution_count": null,
   "id": "0848e864",
   "metadata": {},
   "outputs": [],
   "source": [
    "experiment['transaction_class'] = _group_transaction(experiment)"
   ]
  },
  {
   "cell_type": "code",
   "execution_count": null,
   "id": "7d038fd6",
   "metadata": {},
   "outputs": [],
   "source": [
    "experiment"
   ]
  },
  {
   "cell_type": "code",
   "execution_count": null,
   "id": "30ca8744",
   "metadata": {},
   "outputs": [],
   "source": [
    "experiment.transaction_class.value_counts()"
   ]
  },
  {
   "cell_type": "code",
   "execution_count": null,
   "id": "ecdf1c23",
   "metadata": {},
   "outputs": [],
   "source": [
    "result = experiment.groupby(['member_id', 'type', 'transaction_class']).agg({\n",
    "    'date_start': min,\n",
    "    'date_end': max\n",
    "})"
   ]
  },
  {
   "cell_type": "code",
   "execution_count": null,
   "id": "96af1f93",
   "metadata": {},
   "outputs": [],
   "source": [
    "result"
   ]
  },
  {
   "cell_type": "code",
   "execution_count": null,
   "id": "365c73a3",
   "metadata": {},
   "outputs": [],
   "source": [
    "result.columns"
   ]
  },
  {
   "cell_type": "code",
   "execution_count": null,
   "id": "b33e3080",
   "metadata": {},
   "outputs": [],
   "source": [
    "result.index"
   ]
  },
  {
   "cell_type": "code",
   "execution_count": null,
   "id": "8759f7fa",
   "metadata": {},
   "outputs": [],
   "source": [
    "result.reset_index(level='transaction_class').drop('transaction_class', axis=1)"
   ]
  },
  {
   "cell_type": "code",
   "execution_count": null,
   "id": "1237d50f",
   "metadata": {},
   "outputs": [],
   "source": [
    "final_result = result.reset_index().drop('transaction_class', axis=1)"
   ]
  },
  {
   "cell_type": "code",
   "execution_count": null,
   "id": "78c0c2e4",
   "metadata": {},
   "outputs": [],
   "source": [
    "final_result"
   ]
  },
  {
   "cell_type": "code",
   "execution_count": null,
   "id": "7aec712c",
   "metadata": {},
   "outputs": [],
   "source": [
    "final_result.member_id.value_counts()"
   ]
  },
  {
   "cell_type": "code",
   "execution_count": null,
   "id": "37099faf",
   "metadata": {},
   "outputs": [],
   "source": [
    "final_result[final_result['member_id']==9637]"
   ]
  },
  {
   "cell_type": "code",
   "execution_count": null,
   "id": "246a5363",
   "metadata": {},
   "outputs": [],
   "source": []
  },
  {
   "cell_type": "markdown",
   "id": "acfb6f72",
   "metadata": {},
   "source": [
    "check results "
   ]
  },
  {
   "cell_type": "code",
   "execution_count": null,
   "id": "97694332",
   "metadata": {},
   "outputs": [],
   "source": [
    "!ls ../etl/db"
   ]
  },
  {
   "cell_type": "code",
   "execution_count": null,
   "id": "97564939",
   "metadata": {},
   "outputs": [],
   "source": [
    "# Create your connection.\n",
    "cnx = sqlite3.connect('../etl/db/db_transformed.db')\n",
    "\n",
    "df = pd.read_sql_query(\"SELECT * FROM premium_payments_transformed\", cnx)"
   ]
  },
  {
   "cell_type": "code",
   "execution_count": null,
   "id": "a48c74f9",
   "metadata": {},
   "outputs": [],
   "source": [
    "df"
   ]
  },
  {
   "cell_type": "code",
   "execution_count": 17,
   "id": "f0972a57",
   "metadata": {},
   "outputs": [],
   "source": [
    "# Create your connection.\n",
    "cnx = sqlite3.connect('../etl/db/db_transformed.sqlite3')\n",
    "\n",
    "df_sqlite = pd.read_sql_query(\"SELECT * FROM premium_payments_transformed\", cnx)"
   ]
  },
  {
   "cell_type": "code",
   "execution_count": 18,
   "id": "023638cf",
   "metadata": {},
   "outputs": [
    {
     "data": {
      "text/html": [
       "<div>\n",
       "<style scoped>\n",
       "    .dataframe tbody tr th:only-of-type {\n",
       "        vertical-align: middle;\n",
       "    }\n",
       "\n",
       "    .dataframe tbody tr th {\n",
       "        vertical-align: top;\n",
       "    }\n",
       "\n",
       "    .dataframe thead th {\n",
       "        text-align: right;\n",
       "    }\n",
       "</style>\n",
       "<table border=\"1\" class=\"dataframe\">\n",
       "  <thead>\n",
       "    <tr style=\"text-align: right;\">\n",
       "      <th></th>\n",
       "      <th>member_id</th>\n",
       "      <th>type</th>\n",
       "      <th>date_start</th>\n",
       "      <th>date_end</th>\n",
       "    </tr>\n",
       "  </thead>\n",
       "  <tbody>\n",
       "    <tr>\n",
       "      <th>0</th>\n",
       "      <td>1</td>\n",
       "      <td>1</td>\n",
       "      <td>2018-10-31 00:00:00</td>\n",
       "      <td>2019-01-01 00:00:00</td>\n",
       "    </tr>\n",
       "    <tr>\n",
       "      <th>1</th>\n",
       "      <td>2</td>\n",
       "      <td>3</td>\n",
       "      <td>2019-01-18 00:00:00</td>\n",
       "      <td>2019-04-23 00:00:00</td>\n",
       "    </tr>\n",
       "    <tr>\n",
       "      <th>2</th>\n",
       "      <td>3</td>\n",
       "      <td>3</td>\n",
       "      <td>2019-06-28 00:00:00</td>\n",
       "      <td>2019-07-29 00:00:00</td>\n",
       "    </tr>\n",
       "    <tr>\n",
       "      <th>3</th>\n",
       "      <td>3</td>\n",
       "      <td>3</td>\n",
       "      <td>2019-03-30 00:00:00</td>\n",
       "      <td>2019-04-29 00:00:00</td>\n",
       "    </tr>\n",
       "    <tr>\n",
       "      <th>4</th>\n",
       "      <td>4</td>\n",
       "      <td>2</td>\n",
       "      <td>2020-02-14 00:00:00</td>\n",
       "      <td>2020-03-16 00:00:00</td>\n",
       "    </tr>\n",
       "    <tr>\n",
       "      <th>...</th>\n",
       "      <td>...</td>\n",
       "      <td>...</td>\n",
       "      <td>...</td>\n",
       "      <td>...</td>\n",
       "    </tr>\n",
       "    <tr>\n",
       "      <th>16993</th>\n",
       "      <td>9997</td>\n",
       "      <td>1</td>\n",
       "      <td>2019-01-07 00:00:00</td>\n",
       "      <td>2019-02-06 00:00:00</td>\n",
       "    </tr>\n",
       "    <tr>\n",
       "      <th>16994</th>\n",
       "      <td>9997</td>\n",
       "      <td>2</td>\n",
       "      <td>2019-02-08 00:00:00</td>\n",
       "      <td>2019-03-11 00:00:00</td>\n",
       "    </tr>\n",
       "    <tr>\n",
       "      <th>16995</th>\n",
       "      <td>9998</td>\n",
       "      <td>1</td>\n",
       "      <td>2019-09-03 00:00:00</td>\n",
       "      <td>2019-12-07 00:00:00</td>\n",
       "    </tr>\n",
       "    <tr>\n",
       "      <th>16996</th>\n",
       "      <td>9998</td>\n",
       "      <td>2</td>\n",
       "      <td>2019-06-05 00:00:00</td>\n",
       "      <td>2019-07-05 00:00:00</td>\n",
       "    </tr>\n",
       "    <tr>\n",
       "      <th>16997</th>\n",
       "      <td>9999</td>\n",
       "      <td>1</td>\n",
       "      <td>2019-03-14 00:00:00</td>\n",
       "      <td>2019-04-13 00:00:00</td>\n",
       "    </tr>\n",
       "  </tbody>\n",
       "</table>\n",
       "<p>16998 rows × 4 columns</p>\n",
       "</div>"
      ],
      "text/plain": [
       "       member_id  type           date_start             date_end\n",
       "0              1     1  2018-10-31 00:00:00  2019-01-01 00:00:00\n",
       "1              2     3  2019-01-18 00:00:00  2019-04-23 00:00:00\n",
       "2              3     3  2019-06-28 00:00:00  2019-07-29 00:00:00\n",
       "3              3     3  2019-03-30 00:00:00  2019-04-29 00:00:00\n",
       "4              4     2  2020-02-14 00:00:00  2020-03-16 00:00:00\n",
       "...          ...   ...                  ...                  ...\n",
       "16993       9997     1  2019-01-07 00:00:00  2019-02-06 00:00:00\n",
       "16994       9997     2  2019-02-08 00:00:00  2019-03-11 00:00:00\n",
       "16995       9998     1  2019-09-03 00:00:00  2019-12-07 00:00:00\n",
       "16996       9998     2  2019-06-05 00:00:00  2019-07-05 00:00:00\n",
       "16997       9999     1  2019-03-14 00:00:00  2019-04-13 00:00:00\n",
       "\n",
       "[16998 rows x 4 columns]"
      ]
     },
     "execution_count": 18,
     "metadata": {},
     "output_type": "execute_result"
    }
   ],
   "source": [
    "df_sqlite"
   ]
  },
  {
   "cell_type": "code",
   "execution_count": null,
   "id": "b3b43264",
   "metadata": {},
   "outputs": [],
   "source": [
    "df_sqlite.equals(df)"
   ]
  },
  {
   "cell_type": "code",
   "execution_count": 19,
   "id": "fdf677ea",
   "metadata": {},
   "outputs": [
    {
     "data": {
      "text/plain": [
       "3756    4\n",
       "9919    4\n",
       "714     4\n",
       "332     4\n",
       "4701    4\n",
       "       ..\n",
       "4763    1\n",
       "4762    1\n",
       "4754    1\n",
       "4752    1\n",
       "9999    1\n",
       "Name: member_id, Length: 9999, dtype: int64"
      ]
     },
     "execution_count": 19,
     "metadata": {},
     "output_type": "execute_result"
    }
   ],
   "source": [
    "df_sqlite.member_id.value_counts()"
   ]
  },
  {
   "cell_type": "code",
   "execution_count": 21,
   "id": "7b99bab8",
   "metadata": {},
   "outputs": [
    {
     "data": {
      "text/html": [
       "<div>\n",
       "<style scoped>\n",
       "    .dataframe tbody tr th:only-of-type {\n",
       "        vertical-align: middle;\n",
       "    }\n",
       "\n",
       "    .dataframe tbody tr th {\n",
       "        vertical-align: top;\n",
       "    }\n",
       "\n",
       "    .dataframe thead th {\n",
       "        text-align: right;\n",
       "    }\n",
       "</style>\n",
       "<table border=\"1\" class=\"dataframe\">\n",
       "  <thead>\n",
       "    <tr style=\"text-align: right;\">\n",
       "      <th></th>\n",
       "      <th>member_id</th>\n",
       "      <th>type</th>\n",
       "      <th>date_start</th>\n",
       "      <th>date_end</th>\n",
       "    </tr>\n",
       "  </thead>\n",
       "  <tbody>\n",
       "    <tr>\n",
       "      <th>6353</th>\n",
       "      <td>3756</td>\n",
       "      <td>2</td>\n",
       "      <td>2019-04-08 00:00:00</td>\n",
       "      <td>2019-05-09 00:00:00</td>\n",
       "    </tr>\n",
       "    <tr>\n",
       "      <th>6354</th>\n",
       "      <td>3756</td>\n",
       "      <td>2</td>\n",
       "      <td>2019-01-21 00:00:00</td>\n",
       "      <td>2019-02-20 00:00:00</td>\n",
       "    </tr>\n",
       "    <tr>\n",
       "      <th>6355</th>\n",
       "      <td>3756</td>\n",
       "      <td>3</td>\n",
       "      <td>2019-07-26 00:00:00</td>\n",
       "      <td>2019-08-26 00:00:00</td>\n",
       "    </tr>\n",
       "    <tr>\n",
       "      <th>6356</th>\n",
       "      <td>3756</td>\n",
       "      <td>3</td>\n",
       "      <td>2019-05-10 00:00:00</td>\n",
       "      <td>2019-06-10 00:00:00</td>\n",
       "    </tr>\n",
       "  </tbody>\n",
       "</table>\n",
       "</div>"
      ],
      "text/plain": [
       "      member_id  type           date_start             date_end\n",
       "6353       3756     2  2019-04-08 00:00:00  2019-05-09 00:00:00\n",
       "6354       3756     2  2019-01-21 00:00:00  2019-02-20 00:00:00\n",
       "6355       3756     3  2019-07-26 00:00:00  2019-08-26 00:00:00\n",
       "6356       3756     3  2019-05-10 00:00:00  2019-06-10 00:00:00"
      ]
     },
     "execution_count": 21,
     "metadata": {},
     "output_type": "execute_result"
    }
   ],
   "source": [
    "df_sqlite[df_sqlite['member_id'] == 3756]"
   ]
  },
  {
   "cell_type": "markdown",
   "id": "2261fb58",
   "metadata": {},
   "source": [
    "DEBUG FUNCTION"
   ]
  },
  {
   "cell_type": "code",
   "execution_count": 6,
   "id": "7b24b3a7",
   "metadata": {},
   "outputs": [],
   "source": [
    "data = {\n",
    "        'member_id': [1, 1, 1, 1, 2],\n",
    "        'date_start': ['2018-12-01', '2018-10-31', '2019-01-10', '2019-02-10', '2020-01-01'],\n",
    "        'date_end': ['2019-01-01', '2018-11-30', '2019-02-09', '2019-03-11', '2020-02-01'],\n",
    "        'type': [1, 1, 1, 2, 3]\n",
    "    }\n",
    "input_df = pd.DataFrame(data)\n",
    "input_df['date_start'] = pd.to_datetime(input_df['date_start'])\n",
    "input_df['date_end'] = pd.to_datetime(input_df['date_end'])"
   ]
  },
  {
   "cell_type": "code",
   "execution_count": 7,
   "id": "2653e266",
   "metadata": {},
   "outputs": [
    {
     "data": {
      "text/html": [
       "<div>\n",
       "<style scoped>\n",
       "    .dataframe tbody tr th:only-of-type {\n",
       "        vertical-align: middle;\n",
       "    }\n",
       "\n",
       "    .dataframe tbody tr th {\n",
       "        vertical-align: top;\n",
       "    }\n",
       "\n",
       "    .dataframe thead th {\n",
       "        text-align: right;\n",
       "    }\n",
       "</style>\n",
       "<table border=\"1\" class=\"dataframe\">\n",
       "  <thead>\n",
       "    <tr style=\"text-align: right;\">\n",
       "      <th></th>\n",
       "      <th>member_id</th>\n",
       "      <th>date_start</th>\n",
       "      <th>date_end</th>\n",
       "      <th>type</th>\n",
       "    </tr>\n",
       "  </thead>\n",
       "  <tbody>\n",
       "    <tr>\n",
       "      <th>0</th>\n",
       "      <td>1</td>\n",
       "      <td>2018-12-01</td>\n",
       "      <td>2019-01-01</td>\n",
       "      <td>1</td>\n",
       "    </tr>\n",
       "    <tr>\n",
       "      <th>1</th>\n",
       "      <td>1</td>\n",
       "      <td>2018-10-31</td>\n",
       "      <td>2018-11-30</td>\n",
       "      <td>1</td>\n",
       "    </tr>\n",
       "    <tr>\n",
       "      <th>2</th>\n",
       "      <td>1</td>\n",
       "      <td>2019-01-10</td>\n",
       "      <td>2019-02-09</td>\n",
       "      <td>1</td>\n",
       "    </tr>\n",
       "    <tr>\n",
       "      <th>3</th>\n",
       "      <td>1</td>\n",
       "      <td>2019-02-10</td>\n",
       "      <td>2019-03-11</td>\n",
       "      <td>2</td>\n",
       "    </tr>\n",
       "    <tr>\n",
       "      <th>4</th>\n",
       "      <td>2</td>\n",
       "      <td>2020-01-01</td>\n",
       "      <td>2020-02-01</td>\n",
       "      <td>3</td>\n",
       "    </tr>\n",
       "  </tbody>\n",
       "</table>\n",
       "</div>"
      ],
      "text/plain": [
       "   member_id date_start   date_end  type\n",
       "0          1 2018-12-01 2019-01-01     1\n",
       "1          1 2018-10-31 2018-11-30     1\n",
       "2          1 2019-01-10 2019-02-09     1\n",
       "3          1 2019-02-10 2019-03-11     2\n",
       "4          2 2020-01-01 2020-02-01     3"
      ]
     },
     "execution_count": 7,
     "metadata": {},
     "output_type": "execute_result"
    }
   ],
   "source": [
    "input_df"
   ]
  },
  {
   "cell_type": "code",
   "execution_count": 17,
   "id": "0cc6a5a1",
   "metadata": {},
   "outputs": [],
   "source": [
    "group_cols = ['member_id', 'type']"
   ]
  },
  {
   "cell_type": "code",
   "execution_count": 12,
   "id": "d13e676d",
   "metadata": {},
   "outputs": [],
   "source": [
    "start_date_col = 'date_start'"
   ]
  },
  {
   "cell_type": "code",
   "execution_count": 20,
   "id": "6fa6ab5a",
   "metadata": {},
   "outputs": [
    {
     "data": {
      "text/plain": [
       "['member_id', 'type', 'date_start']"
      ]
     },
     "execution_count": 20,
     "metadata": {},
     "output_type": "execute_result"
    }
   ],
   "source": [
    "group_cols + [start_date_col]"
   ]
  },
  {
   "cell_type": "code",
   "execution_count": 16,
   "id": "b116dc77",
   "metadata": {},
   "outputs": [
    {
     "data": {
      "text/plain": [
       "['member_id', 'type', 'date_start']"
      ]
     },
     "execution_count": 16,
     "metadata": {},
     "output_type": "execute_result"
    }
   ],
   "source": [
    "group_cols"
   ]
  },
  {
   "cell_type": "code",
   "execution_count": 21,
   "id": "b468c3f2",
   "metadata": {},
   "outputs": [
    {
     "data": {
      "text/html": [
       "<div>\n",
       "<style scoped>\n",
       "    .dataframe tbody tr th:only-of-type {\n",
       "        vertical-align: middle;\n",
       "    }\n",
       "\n",
       "    .dataframe tbody tr th {\n",
       "        vertical-align: top;\n",
       "    }\n",
       "\n",
       "    .dataframe thead th {\n",
       "        text-align: right;\n",
       "    }\n",
       "</style>\n",
       "<table border=\"1\" class=\"dataframe\">\n",
       "  <thead>\n",
       "    <tr style=\"text-align: right;\">\n",
       "      <th></th>\n",
       "      <th>member_id</th>\n",
       "      <th>date_start</th>\n",
       "      <th>date_end</th>\n",
       "      <th>type</th>\n",
       "    </tr>\n",
       "  </thead>\n",
       "  <tbody>\n",
       "    <tr>\n",
       "      <th>1</th>\n",
       "      <td>1</td>\n",
       "      <td>2018-10-31</td>\n",
       "      <td>2018-11-30</td>\n",
       "      <td>1</td>\n",
       "    </tr>\n",
       "    <tr>\n",
       "      <th>0</th>\n",
       "      <td>1</td>\n",
       "      <td>2018-12-01</td>\n",
       "      <td>2019-01-01</td>\n",
       "      <td>1</td>\n",
       "    </tr>\n",
       "    <tr>\n",
       "      <th>2</th>\n",
       "      <td>1</td>\n",
       "      <td>2019-01-10</td>\n",
       "      <td>2019-02-09</td>\n",
       "      <td>1</td>\n",
       "    </tr>\n",
       "    <tr>\n",
       "      <th>3</th>\n",
       "      <td>1</td>\n",
       "      <td>2019-02-10</td>\n",
       "      <td>2019-03-11</td>\n",
       "      <td>2</td>\n",
       "    </tr>\n",
       "    <tr>\n",
       "      <th>4</th>\n",
       "      <td>2</td>\n",
       "      <td>2020-01-01</td>\n",
       "      <td>2020-02-01</td>\n",
       "      <td>3</td>\n",
       "    </tr>\n",
       "  </tbody>\n",
       "</table>\n",
       "</div>"
      ],
      "text/plain": [
       "   member_id date_start   date_end  type\n",
       "1          1 2018-10-31 2018-11-30     1\n",
       "0          1 2018-12-01 2019-01-01     1\n",
       "2          1 2019-01-10 2019-02-09     1\n",
       "3          1 2019-02-10 2019-03-11     2\n",
       "4          2 2020-01-01 2020-02-01     3"
      ]
     },
     "execution_count": 21,
     "metadata": {},
     "output_type": "execute_result"
    }
   ],
   "source": [
    "input_df.sort_values(by=group_cols+[start_date_col])"
   ]
  },
  {
   "cell_type": "code",
   "execution_count": 8,
   "id": "19d1a95b",
   "metadata": {},
   "outputs": [],
   "source": [
    "input_df['date_end_lag'] = input_df.groupby(['member_id', 'type'])['date_end'].shift(1)"
   ]
  },
  {
   "cell_type": "code",
   "execution_count": 9,
   "id": "177b2661",
   "metadata": {},
   "outputs": [
    {
     "data": {
      "text/html": [
       "<div>\n",
       "<style scoped>\n",
       "    .dataframe tbody tr th:only-of-type {\n",
       "        vertical-align: middle;\n",
       "    }\n",
       "\n",
       "    .dataframe tbody tr th {\n",
       "        vertical-align: top;\n",
       "    }\n",
       "\n",
       "    .dataframe thead th {\n",
       "        text-align: right;\n",
       "    }\n",
       "</style>\n",
       "<table border=\"1\" class=\"dataframe\">\n",
       "  <thead>\n",
       "    <tr style=\"text-align: right;\">\n",
       "      <th></th>\n",
       "      <th>member_id</th>\n",
       "      <th>date_start</th>\n",
       "      <th>date_end</th>\n",
       "      <th>type</th>\n",
       "      <th>date_end_lag</th>\n",
       "    </tr>\n",
       "  </thead>\n",
       "  <tbody>\n",
       "    <tr>\n",
       "      <th>0</th>\n",
       "      <td>1</td>\n",
       "      <td>2018-10-31</td>\n",
       "      <td>2018-11-30</td>\n",
       "      <td>1</td>\n",
       "      <td>NaT</td>\n",
       "    </tr>\n",
       "    <tr>\n",
       "      <th>1</th>\n",
       "      <td>1</td>\n",
       "      <td>2018-12-01</td>\n",
       "      <td>2019-01-01</td>\n",
       "      <td>1</td>\n",
       "      <td>2018-11-30</td>\n",
       "    </tr>\n",
       "    <tr>\n",
       "      <th>2</th>\n",
       "      <td>1</td>\n",
       "      <td>2019-01-10</td>\n",
       "      <td>2019-02-09</td>\n",
       "      <td>1</td>\n",
       "      <td>2019-01-01</td>\n",
       "    </tr>\n",
       "    <tr>\n",
       "      <th>3</th>\n",
       "      <td>1</td>\n",
       "      <td>2019-02-10</td>\n",
       "      <td>2019-03-11</td>\n",
       "      <td>2</td>\n",
       "      <td>NaT</td>\n",
       "    </tr>\n",
       "    <tr>\n",
       "      <th>4</th>\n",
       "      <td>2</td>\n",
       "      <td>2020-01-01</td>\n",
       "      <td>2020-02-01</td>\n",
       "      <td>3</td>\n",
       "      <td>NaT</td>\n",
       "    </tr>\n",
       "  </tbody>\n",
       "</table>\n",
       "</div>"
      ],
      "text/plain": [
       "   member_id date_start   date_end  type date_end_lag\n",
       "0          1 2018-10-31 2018-11-30     1          NaT\n",
       "1          1 2018-12-01 2019-01-01     1   2018-11-30\n",
       "2          1 2019-01-10 2019-02-09     1   2019-01-01\n",
       "3          1 2019-02-10 2019-03-11     2          NaT\n",
       "4          2 2020-01-01 2020-02-01     3          NaT"
      ]
     },
     "execution_count": 9,
     "metadata": {},
     "output_type": "execute_result"
    }
   ],
   "source": [
    "input_df"
   ]
  },
  {
   "cell_type": "code",
   "execution_count": 15,
   "id": "9bd6dbac",
   "metadata": {},
   "outputs": [],
   "source": [
    "input_df['transaction'] = np.where(input_df['date_end_lag'] + pd.Timedelta(3, unit='D') < input_df['date_start'], 'other_transaction', 'same_transaction')"
   ]
  },
  {
   "cell_type": "code",
   "execution_count": 16,
   "id": "264263c3",
   "metadata": {},
   "outputs": [
    {
     "data": {
      "text/html": [
       "<div>\n",
       "<style scoped>\n",
       "    .dataframe tbody tr th:only-of-type {\n",
       "        vertical-align: middle;\n",
       "    }\n",
       "\n",
       "    .dataframe tbody tr th {\n",
       "        vertical-align: top;\n",
       "    }\n",
       "\n",
       "    .dataframe thead th {\n",
       "        text-align: right;\n",
       "    }\n",
       "</style>\n",
       "<table border=\"1\" class=\"dataframe\">\n",
       "  <thead>\n",
       "    <tr style=\"text-align: right;\">\n",
       "      <th></th>\n",
       "      <th>member_id</th>\n",
       "      <th>date_start</th>\n",
       "      <th>date_end</th>\n",
       "      <th>type</th>\n",
       "      <th>date_end_lag</th>\n",
       "      <th>transaction</th>\n",
       "    </tr>\n",
       "  </thead>\n",
       "  <tbody>\n",
       "    <tr>\n",
       "      <th>0</th>\n",
       "      <td>1</td>\n",
       "      <td>2018-10-31</td>\n",
       "      <td>2018-11-30</td>\n",
       "      <td>1</td>\n",
       "      <td>NaT</td>\n",
       "      <td>same_transaction</td>\n",
       "    </tr>\n",
       "    <tr>\n",
       "      <th>1</th>\n",
       "      <td>1</td>\n",
       "      <td>2018-12-01</td>\n",
       "      <td>2019-01-01</td>\n",
       "      <td>1</td>\n",
       "      <td>2018-11-30</td>\n",
       "      <td>same_transaction</td>\n",
       "    </tr>\n",
       "    <tr>\n",
       "      <th>2</th>\n",
       "      <td>1</td>\n",
       "      <td>2019-01-10</td>\n",
       "      <td>2019-02-09</td>\n",
       "      <td>1</td>\n",
       "      <td>2019-01-01</td>\n",
       "      <td>other_transaction</td>\n",
       "    </tr>\n",
       "    <tr>\n",
       "      <th>3</th>\n",
       "      <td>1</td>\n",
       "      <td>2019-02-10</td>\n",
       "      <td>2019-03-11</td>\n",
       "      <td>2</td>\n",
       "      <td>NaT</td>\n",
       "      <td>same_transaction</td>\n",
       "    </tr>\n",
       "    <tr>\n",
       "      <th>4</th>\n",
       "      <td>2</td>\n",
       "      <td>2020-01-01</td>\n",
       "      <td>2020-02-01</td>\n",
       "      <td>3</td>\n",
       "      <td>NaT</td>\n",
       "      <td>same_transaction</td>\n",
       "    </tr>\n",
       "  </tbody>\n",
       "</table>\n",
       "</div>"
      ],
      "text/plain": [
       "   member_id date_start   date_end  type date_end_lag        transaction\n",
       "0          1 2018-10-31 2018-11-30     1          NaT   same_transaction\n",
       "1          1 2018-12-01 2019-01-01     1   2018-11-30   same_transaction\n",
       "2          1 2019-01-10 2019-02-09     1   2019-01-01  other_transaction\n",
       "3          1 2019-02-10 2019-03-11     2          NaT   same_transaction\n",
       "4          2 2020-01-01 2020-02-01     3          NaT   same_transaction"
      ]
     },
     "execution_count": 16,
     "metadata": {},
     "output_type": "execute_result"
    }
   ],
   "source": [
    "input_df"
   ]
  },
  {
   "cell_type": "code",
   "execution_count": 23,
   "id": "5d490169",
   "metadata": {},
   "outputs": [],
   "source": [
    "result = input_df.groupby(['member_id', 'type', 'transaction']).agg({\n",
    "                'date_start': min,\n",
    "                'date_end': max\n",
    "            }\n",
    "            )"
   ]
  },
  {
   "cell_type": "code",
   "execution_count": 25,
   "id": "a9a71ccb",
   "metadata": {},
   "outputs": [
    {
     "data": {
      "text/html": [
       "<div>\n",
       "<style scoped>\n",
       "    .dataframe tbody tr th:only-of-type {\n",
       "        vertical-align: middle;\n",
       "    }\n",
       "\n",
       "    .dataframe tbody tr th {\n",
       "        vertical-align: top;\n",
       "    }\n",
       "\n",
       "    .dataframe thead th {\n",
       "        text-align: right;\n",
       "    }\n",
       "</style>\n",
       "<table border=\"1\" class=\"dataframe\">\n",
       "  <thead>\n",
       "    <tr style=\"text-align: right;\">\n",
       "      <th></th>\n",
       "      <th></th>\n",
       "      <th></th>\n",
       "      <th>date_start</th>\n",
       "      <th>date_end</th>\n",
       "    </tr>\n",
       "    <tr>\n",
       "      <th>member_id</th>\n",
       "      <th>type</th>\n",
       "      <th>transaction</th>\n",
       "      <th></th>\n",
       "      <th></th>\n",
       "    </tr>\n",
       "  </thead>\n",
       "  <tbody>\n",
       "    <tr>\n",
       "      <th rowspan=\"3\" valign=\"top\">1</th>\n",
       "      <th rowspan=\"2\" valign=\"top\">1</th>\n",
       "      <th>same_transaction</th>\n",
       "      <td>2018-10-31</td>\n",
       "      <td>2019-01-01</td>\n",
       "    </tr>\n",
       "    <tr>\n",
       "      <th>other_transaction</th>\n",
       "      <td>2019-01-10</td>\n",
       "      <td>2019-02-09</td>\n",
       "    </tr>\n",
       "    <tr>\n",
       "      <th>2</th>\n",
       "      <th>same_transaction</th>\n",
       "      <td>2019-02-10</td>\n",
       "      <td>2019-03-11</td>\n",
       "    </tr>\n",
       "    <tr>\n",
       "      <th>2</th>\n",
       "      <th>3</th>\n",
       "      <th>same_transaction</th>\n",
       "      <td>2020-01-01</td>\n",
       "      <td>2020-02-01</td>\n",
       "    </tr>\n",
       "  </tbody>\n",
       "</table>\n",
       "</div>"
      ],
      "text/plain": [
       "                                 date_start   date_end\n",
       "member_id type transaction                            \n",
       "1         1    same_transaction  2018-10-31 2019-01-01\n",
       "               other_transaction 2019-01-10 2019-02-09\n",
       "          2    same_transaction  2019-02-10 2019-03-11\n",
       "2         3    same_transaction  2020-01-01 2020-02-01"
      ]
     },
     "execution_count": 25,
     "metadata": {},
     "output_type": "execute_result"
    }
   ],
   "source": [
    "result.sort_values(by=['member_id', 'type', 'date_start'])"
   ]
  },
  {
   "cell_type": "markdown",
   "id": "6f195490",
   "metadata": {},
   "source": [
    "-> add sort "
   ]
  }
 ],
 "metadata": {
  "kernelspec": {
   "display_name": "Python 3 (ipykernel)",
   "language": "python",
   "name": "python3"
  },
  "language_info": {
   "codemirror_mode": {
    "name": "ipython",
    "version": 3
   },
   "file_extension": ".py",
   "mimetype": "text/x-python",
   "name": "python",
   "nbconvert_exporter": "python",
   "pygments_lexer": "ipython3",
   "version": "3.8.2"
  }
 },
 "nbformat": 4,
 "nbformat_minor": 5
}
